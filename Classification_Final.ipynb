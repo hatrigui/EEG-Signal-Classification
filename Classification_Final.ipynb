{
  "cells": [
    {
      "cell_type": "markdown",
      "metadata": {
        "id": "lP6JLo1tGNBg"
      },
      "source": [
        "#EEG-signal classification for the Detection of epileptic seizure\n",
        "\n",
        "Hassouna Malek ET Trigui Hatem "
      ]
    },
    {
      "cell_type": "markdown",
      "metadata": {
        "id": "gWZyYmS_UE_L"
      },
      "source": [
        "### Importing the libraries"
      ]
    },
    {
      "cell_type": "code",
      "execution_count": 137,
      "metadata": {
        "id": "y5IqcE-4FDx9"
      },
      "outputs": [],
      "source": [
        "import pywt\n",
        "import matplotlib.pyplot as plt\n",
        "import os\n",
        "import numpy as np\n",
        "import pandas as pd\n",
        "import seaborn as sn\n",
        "from sklearn.model_selection import train_test_split\n",
        "from sklearn.svm import SVC\n",
        "from sklearn.metrics import accuracy_score\n",
        "from sklearn.model_selection import GridSearchCV\n",
        "from sklearn.decomposition import PCA\n",
        "from sklearn.preprocessing import StandardScaler\n",
        "from sklearn.preprocessing import RobustScaler\n",
        "from sklearn.metrics import accuracy_score, recall_score, confusion_matrix\n",
        "from sklearn.metrics import log_loss\n",
        "from sklearn.metrics import precision_score, f1_score\n",
        "from sklearn.linear_model import LinearRegression\n",
        "from sklearn.neighbors import KNeighborsClassifier\n",
        "from sklearn.mixture import GaussianMixture\n",
        "from sklearn.metrics import accuracy_score, mean_squared_error\n"
      ]
    },
    {
      "cell_type": "markdown",
      "metadata": {
        "id": "fbU0KlVrJ0Qr"
      },
      "source": [
        "### Data Pre-Processing"
      ]
    },
    {
      "cell_type": "code",
      "execution_count": 138,
      "metadata": {
        "id": "IM7Yb3rxFDyA"
      },
      "outputs": [],
      "source": [
        "def process_eeg_file(file_path, label):\n",
        "    data = np.loadtxt(file_path)\n",
        "    chunk_size = 177\n",
        "    chunks = [data[i:i + chunk_size] for i in range(0, len(data), chunk_size)]\n",
        "    labeled_chunks = [(chunk, label) for chunk in chunks]\n",
        "    return labeled_chunks\n",
        "\n",
        "def process_dataset_folder(folder_path, label):\n",
        "    dataset = []\n",
        "    for file_name in os.listdir(folder_path):\n",
        "        if file_name.upper().endswith(\".TXT\"):\n",
        "            file_path = os.path.join(folder_path, file_name)\n",
        "            dataset.extend(process_eeg_file(file_path, label))\n",
        "    return dataset\n"
      ]
    },
    {
      "cell_type": "code",
      "execution_count": 139,
      "metadata": {
        "id": "vEZwz5oKFDyB",
        "outputId": "675044a9-11d7-40af-eaa9-a4ca5b262846"
      },
      "outputs": [
        {
          "name": "stdout",
          "output_type": "stream",
          "text": [
            "Class 1, Folder C:/Users/MSI/Desktop/Dasec Mini Projet/DataBase/Set A/: 2400 lines\n",
            "Class 2, Folder C:/Users/MSI/Desktop/Dasec Mini Projet/DataBase/Set B/: 2400 lines\n",
            "Class 3, Folder C:/Users/MSI/Desktop/Dasec Mini Projet/DataBase/Set C/: 2400 lines\n",
            "Class 4, Folder C:/Users/MSI/Desktop/Dasec Mini Projet/DataBase/Set D/: 2400 lines\n",
            "Class 5, Folder C:/Users/MSI/Desktop/Dasec Mini Projet/DataBase/Set E/: 2400 lines\n",
            "CSV file saved successfully at: C:/Users/MSI/Desktop/Dasec Mini Projet/DataBase/datafinal.csv\n"
          ]
        }
      ],
      "source": [
        "import os  # Ajout d'import si ce n'était pas inclus\n",
        "import numpy as np\n",
        "import pandas as pd  # Assurez-vous que ces imports sont présents\n",
        "\n",
        "class_folders = {\n",
        "    1: 'C:/Users/MSI/Desktop/Dasec Mini Projet/DataBase/Set A/',\n",
        "    2: 'C:/Users/MSI/Desktop/Dasec Mini Projet/DataBase/Set B/',\n",
        "    3: 'C:/Users/MSI/Desktop/Dasec Mini Projet/DataBase/Set C/',\n",
        "    4: 'C:/Users/MSI/Desktop/Dasec Mini Projet/DataBase/Set D/',\n",
        "    5: 'C:/Users/MSI/Desktop/Dasec Mini Projet/DataBase/Set E/',\n",
        "}\n",
        "\n",
        "full_dataset = []\n",
        "\n",
        "for label, folder in class_folders.items():\n",
        "    folder_path = os.path.join(\"./data\", folder)  \n",
        "    class_dataset = process_dataset_folder(folder_path, label) \n",
        "    full_dataset.extend(class_dataset)\n",
        "    print(f\"Class {label}, Folder {folder}: {len(class_dataset)} lines\")\n",
        "\n",
        "np.random.shuffle(full_dataset)\n",
        "\n",
        "X = [entry[0] for entry in full_dataset]\n",
        "y = np.array([entry[1] for entry in full_dataset])\n",
        "\n",
        "max_length = max(len(chunk) for chunk in X)\n",
        "X_padded = np.array([np.pad(chunk, (0, max_length - len(chunk))) for chunk in X])\n",
        "\n",
        "columns = [f\"X{i}\" for i in range(1, max_length + 1)] + [\"y\"]\n",
        "df = pd.DataFrame(np.column_stack([X_padded, y]), columns=columns)\n",
        "\n",
        "output_path = 'C:/Users/MSI/Desktop/Dasec Mini Projet/DataBase/datafinal.csv'\n",
        "df.to_csv(output_path, index=False)\n",
        "print(f\"CSV file saved successfully at: {output_path}\")\n"
      ]
    },
    {
      "cell_type": "code",
      "execution_count": 140,
      "metadata": {
        "id": "Vjap1OJMq88J"
      },
      "outputs": [],
      "source": [
        "ESR = pd.read_csv('C:/Users/MSI/Desktop/Dasec Mini Projet/DataBase/datafinal.csv')"
      ]
    },
    {
      "cell_type": "code",
      "execution_count": 141,
      "metadata": {
        "id": "yaBu5PloFDyD"
      },
      "outputs": [],
      "source": [
        "ESR.head()\n",
        "ESR = ESR.drop(columns = ESR.columns[0])"
      ]
    },
    {
      "cell_type": "markdown",
      "metadata": {
        "id": "5b7Wwu3OKlIq"
      },
      "source": [
        "### Exploratory Data Analysis"
      ]
    },
    {
      "cell_type": "code",
      "execution_count": 142,
      "metadata": {
        "id": "2C9hw7K6FDyD",
        "outputId": "2111d515-7abf-46d7-c72e-cc57238d531e"
      },
      "outputs": [
        {
          "data": {
            "text/plain": [
              "X2      0\n",
              "X3      0\n",
              "X4      0\n",
              "X5      0\n",
              "X6      0\n",
              "       ..\n",
              "X174    0\n",
              "X175    0\n",
              "X176    0\n",
              "X177    0\n",
              "y       0\n",
              "Length: 177, dtype: int64"
            ]
          },
          "execution_count": 142,
          "metadata": {},
          "output_type": "execute_result"
        }
      ],
      "source": [
        "ESR.isnull().sum()"
      ]
    },
    {
      "cell_type": "markdown",
      "metadata": {},
      "source": [
        "The dataset contains 178 columns (X2 to X178) plus the target column y.\n",
        "Each value in the result indicates how many missing values are present in that column.\n",
        "For example:\n",
        "X2 has 0 missing values.\n",
        "X3 has 0 missing values.\n",
        "All columns have 0 missing values, which means there are no missing values in the entire dataset."
      ]
    },
    {
      "cell_type": "code",
      "execution_count": 143,
      "metadata": {
        "id": "mqvX0u8BFDyE",
        "outputId": "2f84d238-7752-4473-e391-b02369800f99"
      },
      "outputs": [
        {
          "data": {
            "text/html": [
              "<div>\n",
              "<style scoped>\n",
              "    .dataframe tbody tr th:only-of-type {\n",
              "        vertical-align: middle;\n",
              "    }\n",
              "\n",
              "    .dataframe tbody tr th {\n",
              "        vertical-align: top;\n",
              "    }\n",
              "\n",
              "    .dataframe thead th {\n",
              "        text-align: right;\n",
              "    }\n",
              "</style>\n",
              "<table border=\"1\" class=\"dataframe\">\n",
              "  <thead>\n",
              "    <tr style=\"text-align: right;\">\n",
              "      <th></th>\n",
              "      <th>X2</th>\n",
              "      <th>X3</th>\n",
              "      <th>X4</th>\n",
              "      <th>X5</th>\n",
              "      <th>X6</th>\n",
              "      <th>X7</th>\n",
              "      <th>X8</th>\n",
              "      <th>X9</th>\n",
              "      <th>X10</th>\n",
              "      <th>X11</th>\n",
              "      <th>...</th>\n",
              "      <th>X169</th>\n",
              "      <th>X170</th>\n",
              "      <th>X171</th>\n",
              "      <th>X172</th>\n",
              "      <th>X173</th>\n",
              "      <th>X174</th>\n",
              "      <th>X175</th>\n",
              "      <th>X176</th>\n",
              "      <th>X177</th>\n",
              "      <th>y</th>\n",
              "    </tr>\n",
              "  </thead>\n",
              "  <tbody>\n",
              "    <tr>\n",
              "      <th>count</th>\n",
              "      <td>12000.000000</td>\n",
              "      <td>12000.000000</td>\n",
              "      <td>12000.000000</td>\n",
              "      <td>12000.000000</td>\n",
              "      <td>12000.000000</td>\n",
              "      <td>12000.000000</td>\n",
              "      <td>12000.000000</td>\n",
              "      <td>12000.000000</td>\n",
              "      <td>12000.000000</td>\n",
              "      <td>12000.000000</td>\n",
              "      <td>...</td>\n",
              "      <td>12000.000000</td>\n",
              "      <td>12000.000000</td>\n",
              "      <td>12000.000000</td>\n",
              "      <td>12000.000000</td>\n",
              "      <td>12000.000000</td>\n",
              "      <td>12000.000000</td>\n",
              "      <td>12000.000000</td>\n",
              "      <td>12000.000000</td>\n",
              "      <td>12000.000000</td>\n",
              "      <td>12000.000000</td>\n",
              "    </tr>\n",
              "    <tr>\n",
              "      <th>mean</th>\n",
              "      <td>-8.334667</td>\n",
              "      <td>-9.202417</td>\n",
              "      <td>-10.436000</td>\n",
              "      <td>-11.430833</td>\n",
              "      <td>-12.322667</td>\n",
              "      <td>-12.814583</td>\n",
              "      <td>-12.665500</td>\n",
              "      <td>-11.668333</td>\n",
              "      <td>-10.541833</td>\n",
              "      <td>-9.795083</td>\n",
              "      <td>...</td>\n",
              "      <td>-6.451417</td>\n",
              "      <td>-7.164000</td>\n",
              "      <td>-7.782333</td>\n",
              "      <td>-7.996667</td>\n",
              "      <td>-7.993167</td>\n",
              "      <td>-8.038917</td>\n",
              "      <td>-8.040583</td>\n",
              "      <td>-7.753333</td>\n",
              "      <td>-7.447083</td>\n",
              "      <td>3.000000</td>\n",
              "    </tr>\n",
              "    <tr>\n",
              "      <th>std</th>\n",
              "      <td>168.651628</td>\n",
              "      <td>169.951623</td>\n",
              "      <td>171.326287</td>\n",
              "      <td>170.135922</td>\n",
              "      <td>166.758231</td>\n",
              "      <td>166.538977</td>\n",
              "      <td>168.824472</td>\n",
              "      <td>169.983614</td>\n",
              "      <td>168.858382</td>\n",
              "      <td>165.889155</td>\n",
              "      <td>...</td>\n",
              "      <td>164.512100</td>\n",
              "      <td>164.010894</td>\n",
              "      <td>162.151717</td>\n",
              "      <td>161.253907</td>\n",
              "      <td>161.086195</td>\n",
              "      <td>160.371034</td>\n",
              "      <td>158.599734</td>\n",
              "      <td>158.784674</td>\n",
              "      <td>160.391282</td>\n",
              "      <td>1.414272</td>\n",
              "    </tr>\n",
              "    <tr>\n",
              "      <th>min</th>\n",
              "      <td>-1866.000000</td>\n",
              "      <td>-1863.000000</td>\n",
              "      <td>-1865.000000</td>\n",
              "      <td>-1822.000000</td>\n",
              "      <td>-1868.000000</td>\n",
              "      <td>-1805.000000</td>\n",
              "      <td>-1838.000000</td>\n",
              "      <td>-1763.000000</td>\n",
              "      <td>-1829.000000</td>\n",
              "      <td>-1727.000000</td>\n",
              "      <td>...</td>\n",
              "      <td>-1852.000000</td>\n",
              "      <td>-1860.000000</td>\n",
              "      <td>-1861.000000</td>\n",
              "      <td>-1845.000000</td>\n",
              "      <td>-1820.000000</td>\n",
              "      <td>-1857.000000</td>\n",
              "      <td>-1843.000000</td>\n",
              "      <td>-1783.000000</td>\n",
              "      <td>-1870.000000</td>\n",
              "      <td>1.000000</td>\n",
              "    </tr>\n",
              "    <tr>\n",
              "      <th>25%</th>\n",
              "      <td>-55.000000</td>\n",
              "      <td>-55.000000</td>\n",
              "      <td>-55.000000</td>\n",
              "      <td>-56.000000</td>\n",
              "      <td>-57.000000</td>\n",
              "      <td>-57.000000</td>\n",
              "      <td>-56.000000</td>\n",
              "      <td>-57.000000</td>\n",
              "      <td>-56.000000</td>\n",
              "      <td>-56.000000</td>\n",
              "      <td>...</td>\n",
              "      <td>-50.000000</td>\n",
              "      <td>-49.000000</td>\n",
              "      <td>-49.000000</td>\n",
              "      <td>-49.000000</td>\n",
              "      <td>-50.000000</td>\n",
              "      <td>-50.000000</td>\n",
              "      <td>-51.000000</td>\n",
              "      <td>-51.000000</td>\n",
              "      <td>-50.250000</td>\n",
              "      <td>2.000000</td>\n",
              "    </tr>\n",
              "    <tr>\n",
              "      <th>50%</th>\n",
              "      <td>-7.000000</td>\n",
              "      <td>-8.000000</td>\n",
              "      <td>-8.000000</td>\n",
              "      <td>-8.500000</td>\n",
              "      <td>-8.000000</td>\n",
              "      <td>-8.000000</td>\n",
              "      <td>-9.000000</td>\n",
              "      <td>-9.000000</td>\n",
              "      <td>-9.000000</td>\n",
              "      <td>-9.000000</td>\n",
              "      <td>...</td>\n",
              "      <td>-4.000000</td>\n",
              "      <td>-4.000000</td>\n",
              "      <td>-5.000000</td>\n",
              "      <td>-4.000000</td>\n",
              "      <td>-5.000000</td>\n",
              "      <td>-5.000000</td>\n",
              "      <td>-4.000000</td>\n",
              "      <td>-4.000000</td>\n",
              "      <td>-3.000000</td>\n",
              "      <td>3.000000</td>\n",
              "    </tr>\n",
              "    <tr>\n",
              "      <th>75%</th>\n",
              "      <td>36.000000</td>\n",
              "      <td>37.000000</td>\n",
              "      <td>37.000000</td>\n",
              "      <td>35.000000</td>\n",
              "      <td>35.000000</td>\n",
              "      <td>35.000000</td>\n",
              "      <td>34.000000</td>\n",
              "      <td>33.000000</td>\n",
              "      <td>32.250000</td>\n",
              "      <td>33.000000</td>\n",
              "      <td>...</td>\n",
              "      <td>33.000000</td>\n",
              "      <td>32.000000</td>\n",
              "      <td>33.000000</td>\n",
              "      <td>34.000000</td>\n",
              "      <td>33.000000</td>\n",
              "      <td>32.000000</td>\n",
              "      <td>33.000000</td>\n",
              "      <td>34.000000</td>\n",
              "      <td>34.000000</td>\n",
              "      <td>4.000000</td>\n",
              "    </tr>\n",
              "    <tr>\n",
              "      <th>max</th>\n",
              "      <td>1460.000000</td>\n",
              "      <td>1413.000000</td>\n",
              "      <td>1501.000000</td>\n",
              "      <td>1628.000000</td>\n",
              "      <td>1733.000000</td>\n",
              "      <td>1958.000000</td>\n",
              "      <td>2047.000000</td>\n",
              "      <td>2047.000000</td>\n",
              "      <td>1915.000000</td>\n",
              "      <td>1726.000000</td>\n",
              "      <td>...</td>\n",
              "      <td>2047.000000</td>\n",
              "      <td>2047.000000</td>\n",
              "      <td>1777.000000</td>\n",
              "      <td>1515.000000</td>\n",
              "      <td>1330.000000</td>\n",
              "      <td>1297.000000</td>\n",
              "      <td>1431.000000</td>\n",
              "      <td>1543.000000</td>\n",
              "      <td>1556.000000</td>\n",
              "      <td>5.000000</td>\n",
              "    </tr>\n",
              "  </tbody>\n",
              "</table>\n",
              "<p>8 rows × 177 columns</p>\n",
              "</div>"
            ],
            "text/plain": [
              "                 X2            X3            X4            X5            X6  \\\n",
              "count  12000.000000  12000.000000  12000.000000  12000.000000  12000.000000   \n",
              "mean      -8.334667     -9.202417    -10.436000    -11.430833    -12.322667   \n",
              "std      168.651628    169.951623    171.326287    170.135922    166.758231   \n",
              "min    -1866.000000  -1863.000000  -1865.000000  -1822.000000  -1868.000000   \n",
              "25%      -55.000000    -55.000000    -55.000000    -56.000000    -57.000000   \n",
              "50%       -7.000000     -8.000000     -8.000000     -8.500000     -8.000000   \n",
              "75%       36.000000     37.000000     37.000000     35.000000     35.000000   \n",
              "max     1460.000000   1413.000000   1501.000000   1628.000000   1733.000000   \n",
              "\n",
              "                 X7            X8            X9           X10           X11  \\\n",
              "count  12000.000000  12000.000000  12000.000000  12000.000000  12000.000000   \n",
              "mean     -12.814583    -12.665500    -11.668333    -10.541833     -9.795083   \n",
              "std      166.538977    168.824472    169.983614    168.858382    165.889155   \n",
              "min    -1805.000000  -1838.000000  -1763.000000  -1829.000000  -1727.000000   \n",
              "25%      -57.000000    -56.000000    -57.000000    -56.000000    -56.000000   \n",
              "50%       -8.000000     -9.000000     -9.000000     -9.000000     -9.000000   \n",
              "75%       35.000000     34.000000     33.000000     32.250000     33.000000   \n",
              "max     1958.000000   2047.000000   2047.000000   1915.000000   1726.000000   \n",
              "\n",
              "       ...          X169          X170          X171          X172  \\\n",
              "count  ...  12000.000000  12000.000000  12000.000000  12000.000000   \n",
              "mean   ...     -6.451417     -7.164000     -7.782333     -7.996667   \n",
              "std    ...    164.512100    164.010894    162.151717    161.253907   \n",
              "min    ...  -1852.000000  -1860.000000  -1861.000000  -1845.000000   \n",
              "25%    ...    -50.000000    -49.000000    -49.000000    -49.000000   \n",
              "50%    ...     -4.000000     -4.000000     -5.000000     -4.000000   \n",
              "75%    ...     33.000000     32.000000     33.000000     34.000000   \n",
              "max    ...   2047.000000   2047.000000   1777.000000   1515.000000   \n",
              "\n",
              "               X173          X174          X175          X176          X177  \\\n",
              "count  12000.000000  12000.000000  12000.000000  12000.000000  12000.000000   \n",
              "mean      -7.993167     -8.038917     -8.040583     -7.753333     -7.447083   \n",
              "std      161.086195    160.371034    158.599734    158.784674    160.391282   \n",
              "min    -1820.000000  -1857.000000  -1843.000000  -1783.000000  -1870.000000   \n",
              "25%      -50.000000    -50.000000    -51.000000    -51.000000    -50.250000   \n",
              "50%       -5.000000     -5.000000     -4.000000     -4.000000     -3.000000   \n",
              "75%       33.000000     32.000000     33.000000     34.000000     34.000000   \n",
              "max     1330.000000   1297.000000   1431.000000   1543.000000   1556.000000   \n",
              "\n",
              "                  y  \n",
              "count  12000.000000  \n",
              "mean       3.000000  \n",
              "std        1.414272  \n",
              "min        1.000000  \n",
              "25%        2.000000  \n",
              "50%        3.000000  \n",
              "75%        4.000000  \n",
              "max        5.000000  \n",
              "\n",
              "[8 rows x 177 columns]"
            ]
          },
          "execution_count": 143,
          "metadata": {},
          "output_type": "execute_result"
        }
      ],
      "source": [
        "ESR.describe()"
      ]
    },
    {
      "cell_type": "code",
      "execution_count": 144,
      "metadata": {
        "id": "1vGDB1ncFDyF"
      },
      "outputs": [],
      "source": [
        "X = ESR.drop(columns = ['y'])\n",
        "y = ESR['y']"
      ]
    },
    {
      "cell_type": "code",
      "execution_count": 145,
      "metadata": {
        "id": "ZzcoLxNaFDyF",
        "outputId": "5e2ac08c-24ab-4127-bee9-feae124dd2bf"
      },
      "outputs": [
        {
          "data": {
            "text/plain": [
              "<Axes: >"
            ]
          },
          "execution_count": 145,
          "metadata": {},
          "output_type": "execute_result"
        },
        {
          "data": {
            "image/png": "[encoded data removed]",
            "text/plain": [
              "<Figure size 640x480 with 1 Axes>"
            ]
          },
          "metadata": {},
          "output_type": "display_data"
        }
      ],
      "source": [
        "df['y'].hist()\n"
      ]
    },
    {
      "cell_type": "markdown",
      "metadata": {},
      "source": [
        "The histogram shows five bars, each representing a unique value in the y column. These could correspond to different categories or classes of EEG signals.\n",
        "\n",
        "The x-axis shows the unique values or class labels (1.0, 2.0, 3.0, 4.0, and 5.0).\n",
        "The y-axis shows the frequency count for each class, which is how often each class label appears in the dataset.\n",
        "The bars are almost the same height, indicating that the data is balanced across the five classes, meaning each class has a similar number of samples (around 2,400 to 2,500 samples per class)."
      ]
    },
    {
      "cell_type": "code",
      "execution_count": 146,
      "metadata": {
        "id": "9A5BF8dAFDyG",
        "outputId": "60612353-07e6-42ca-d517-04fe2e345572"
      },
      "outputs": [
        {
          "data": {
            "text/plain": [
              "<Axes: >"
            ]
          },
          "execution_count": 146,
          "metadata": {},
          "output_type": "execute_result"
        },
        {
          "data": {
            "image/png": "[encoded data removed]",
            "text/plain": [
              "<Figure size 640x480 with 1 Axes>"
            ]
          },
          "metadata": {},
          "output_type": "display_data"
        }
      ],
      "source": [
        "labels = ['no seizure', 'seizure']\n",
        "seizure = np.sum(y == 1)\n",
        "no_seizure = np.sum(y > 1)\n",
        "\n",
        "sn.barplot(x=labels, y=[no_seizure, seizure])"
      ]
    },
    {
      "cell_type": "code",
      "execution_count": 147,
      "metadata": {
        "id": "XqrOUUroFDyG",
        "outputId": "c2910edd-0e7b-472f-f674-ea1c07dd6963"
      },
      "outputs": [
        {
          "name": "stdout",
          "output_type": "stream",
          "text": [
            "The number of trials for the non-seizure class is: 9600\n",
            "The number of trials for the seizure class is: 2400\n"
          ]
        }
      ],
      "source": [
        "print('The number of trials for the non-seizure class is:', no_seizure)\n",
        "print('The number of trials for the seizure class is:', seizure)"
      ]
    },
    {
      "cell_type": "code",
      "execution_count": 148,
      "metadata": {
        "id": "TJDAdQJ7FDyG",
        "outputId": "9e45f8f3-be5e-421d-e19a-07dbe8f95a05"
      },
      "outputs": [
        {
          "data": {
            "text/plain": [
              "(12000,)"
            ]
          },
          "execution_count": 148,
          "metadata": {},
          "output_type": "execute_result"
        }
      ],
      "source": [
        "Y = ESR.iloc[:,176].values\n",
        "Y.shape"
      ]
    },
    {
      "cell_type": "code",
      "execution_count": 149,
      "metadata": {
        "id": "RUQEDJ-mFDyH",
        "outputId": "f4b01099-13b0-4554-d459-a020cf00bd51"
      },
      "outputs": [
        {
          "data": {
            "text/plain": [
              "array([0., 0., 0., ..., 0., 1., 0.])"
            ]
          },
          "execution_count": 149,
          "metadata": {},
          "output_type": "execute_result"
        }
      ],
      "source": [
        "Y[Y>1]=0\n",
        "Y"
      ]
    },
    {
      "cell_type": "code",
      "execution_count": 150,
      "metadata": {
        "id": "UFuxETN_FDyH",
        "outputId": "1ccad868-8047-49fd-8c63-6e6921a35b2d"
      },
      "outputs": [
        {
          "data": {
            "text/plain": [
              "(12000, 176)"
            ]
          },
          "execution_count": 150,
          "metadata": {},
          "output_type": "execute_result"
        }
      ],
      "source": [
        "X = ESR.iloc[:,1:178].values\n",
        "X.shape"
      ]
    },
    {
      "cell_type": "markdown",
      "metadata": {
        "id": "P1Wviz2xLwNv"
      },
      "source": [
        "\n",
        "\n",
        "### Data Pre-Processing"
      ]
    },
    {
      "cell_type": "markdown",
      "metadata": {},
      "source": [
        "1. Haar Wavelet: Feature Extraction\n",
        "Haar wavelet is a type of wavelet transformation used to analyze signals, including EEG data, at multiple scales.\n",
        "It works by decomposing a signal into approximate and detailed components, capturing both low-frequency trends and high-frequency details.\n",
        "Wavelet coefficients become the features fed to a machine learning model.\n",
        "Purpose:\n",
        "\n",
        "In EEG seizure detection, wavelets like Haar are useful because they capture both the short-term bursts (high-frequency) and longer trends (low-frequency) of the EEG signal, which are crucial for distinguishing between seizure and non-seizure states.\n",
        "2. PCA (Principal Component Analysis): Dimensionality Reduction\n",
        "PCA reduces the number of features (dimensions) while retaining as much variance (information) as possible.\n",
        "EEG datasets are often high-dimensional after wavelet decomposition, which can make the model prone to overfitting. PCA simplifies the data by extracting only the most important components.\n",
        "In this process:\n",
        "\n",
        "PCA with 10 components reduces the data to 10 dimensions.\n",
        "PCA with 50 components keeps 50 important dimensions.\n",
        "Why PCA is used:\n",
        "\n",
        "Reducing dimensions can improve model performance and reduce training time while still keeping meaningful patterns from the original data.\n",
        "3. Different SVM Kernels: Model Training and Classification\n",
        "After PCA, the reduced data is passed to an SVM model. The SVM classifier uses different kernels to find the optimal boundary between classes (seizure vs. non-seizure).\n",
        "\n",
        "RBF Kernel (Radial Basis Function):\n",
        "RBF is a non-linear kernel that maps the data into a higher-dimensional space where it becomes easier to separate the classes.\n",
        "\n",
        "Works well when the relationship between the features and labels is non-linear.\n",
        "\n",
        "Experiments:\n",
        "\n",
        "RBF with 10-component PCA: Tests the model’s performance on data reduced to 10 dimensions.\n",
        "RBF with 50-component PCA: Tests the model on a richer feature set with 50 components.\n",
        "Polynomial Kernel:\n",
        "A polynomial kernel computes a non-linear relationship by adding polynomial combinations of the input features.\n",
        "\n",
        "It can model complex interactions between features but may be more computationally expensive than RBF.\n",
        "\n",
        "Experiment:\n",
        "\n",
        "Polynomial kernel with 50-component PCA: Uses 50-dimensional data and tries to capture non-linear relationships between features.\n",
        "Summary of the Process:\n",
        "Haar Wavelet: Extracts meaningful features from the raw EEG signal.\n",
        "PCA: Reduces feature dimensions to either 10 or 50 components.\n",
        "SVM with RBF/Polynomial Kernels:\n",
        "RBF Kernel: Handles non-linear relationships effectively.\n",
        "Polynomial Kernel: Models more complex relationships through polynomial interactions.\n",
        "Performance Comparison:\n",
        "By comparing different kernel-PCA combinations, the goal is to find the best combination that yields the highest accuracy, recall, precision, or F1-score for the task.\n"
      ]
    },
    {
      "cell_type": "markdown",
      "metadata": {
        "id": "Td2vA3pUIBzf"
      },
      "source": [
        "***Haar Wavelet***\n",
        "\n",
        "*   RBF kernel with 10 component PCA\n",
        "*   RBF kernel with 50 component PCA\n",
        "*   Polynomial kernel with 50 component PCA\n",
        "\n",
        "\n",
        "\n",
        "\n",
        "\n",
        "\n"
      ]
    },
    {
      "cell_type": "markdown",
      "metadata": {
        "id": "cyl-r-yCeFes"
      },
      "source": [
        "\n",
        "\n",
        "### Haar"
      ]
    },
    {
      "cell_type": "code",
      "execution_count": 151,
      "metadata": {
        "id": "Qsvtxn4mFDyI",
        "outputId": "42bba05f-2f50-418c-902d-9816c165bc53"
      },
      "outputs": [
        {
          "name": "stdout",
          "output_type": "stream",
          "text": [
            "   wavelet_0  wavelet_1  wavelet_2  wavelet_3  wavelet_4  wavelet_5  \\\n",
            "0     -167.0       14.0      -35.0     -165.5      -27.5      -42.0   \n",
            "1       41.0      -29.5      -93.5     -104.0     -114.5     -100.0   \n",
            "2        2.5       41.5      111.0       54.5      -93.0     -136.0   \n",
            "3     -652.0     -815.5    -1044.5      136.0      641.0      903.0   \n",
            "4      -34.0      -29.5        5.0       -5.5       36.5      106.0   \n",
            "\n",
            "   wavelet_6  wavelet_7  wavelet_8  wavelet_9  ...  wavelet_167  wavelet_168  \\\n",
            "0     -219.5       38.0       69.0      -77.0  ...   -17.677670     2.121320   \n",
            "1     -100.0      -71.5      -83.5      -78.5  ...    -9.899495     1.414214   \n",
            "2     -115.5       29.0      -11.0      -64.5  ...    -9.192388     7.778175   \n",
            "3     1220.0      557.0     -420.5     -895.5  ...    76.367532    46.669048   \n",
            "4      109.0       72.0       65.0       63.5  ...    21.920310   -31.112698   \n",
            "\n",
            "   wavelet_169  wavelet_170  wavelet_171  wavelet_172  wavelet_173  \\\n",
            "0     0.000000     7.778175     0.707107     9.899495    -6.363961   \n",
            "1     8.485281     2.121320     2.828427     7.778175     6.363961   \n",
            "2     4.242641     0.707107    -7.071068    -3.535534    -6.363961   \n",
            "3    -9.192388    -2.828427     2.121320   -24.748737   -36.062446   \n",
            "4   -56.568542   -27.577164     6.363961    14.142136    33.941125   \n",
            "\n",
            "   wavelet_174  wavelet_175    y  \n",
            "0    -9.192388    -6.363961  0.0  \n",
            "1    12.727922     5.656854  0.0  \n",
            "2   -11.313708     2.121320  0.0  \n",
            "3   -17.677670     3.535534  0.0  \n",
            "4    31.112698    14.142136  0.0  \n",
            "\n",
            "[5 rows x 177 columns]\n"
          ]
        }
      ],
      "source": [
        "X = ESR.iloc[:, :-1]\n",
        "\n",
        "def apply_wavelet_transform(row):\n",
        "    coeffs = pywt.wavedec(row, 'haar', level=2)\n",
        "    return np.concatenate(coeffs)\n",
        "\n",
        "\n",
        "wavelet_data = np.apply_along_axis(apply_wavelet_transform, axis=1, arr=X.to_numpy())\n",
        "\n",
        "\n",
        "wavelet_df = pd.DataFrame(wavelet_data, columns=[f'wavelet_{i}' for i in range(len(wavelet_data[0]))])\n",
        "\n",
        "wavelet_df['y'] = ESR['y']\n",
        "\n",
        "print(wavelet_df.head())\n",
        "\n"
      ]
    },
    {
      "cell_type": "markdown",
      "metadata": {
        "id": "C_ZTgLt4FDyJ"
      },
      "source": [
        " **Data Scaling**"
      ]
    },
    {
      "cell_type": "code",
      "execution_count": 152,
      "metadata": {
        "id": "_ZQVaI5aNtjB"
      },
      "outputs": [],
      "source": [
        "X = wavelet_df.iloc[:, :-1]\n",
        "y = wavelet_df['y']\n",
        "\n",
        "num_bins = 5\n",
        "y_categorical = pd.cut(y, bins=num_bins, labels=False)\n",
        "\n",
        "\n",
        "scaler = StandardScaler()\n",
        "X_standardized = scaler.fit_transform(X)\n"
      ]
    },
    {
      "cell_type": "markdown",
      "metadata": {
        "id": "70F5oWZGWX4s"
      },
      "source": [
        "**PCA with 10 components**"
      ]
    },
    {
      "cell_type": "code",
      "execution_count": 153,
      "metadata": {
        "id": "2y_f_WbsNwld",
        "outputId": "f897a601-ef3b-41df-e7d5-cba81456d488"
      },
      "outputs": [
        {
          "name": "stdout",
          "output_type": "stream",
          "text": [
            "        PC1       PC2       PC3       PC4       PC5       PC6       PC7  \\\n",
            "0  1.491663 -0.306765  0.892603  1.461184 -1.459361  0.275340 -0.383457   \n",
            "1  0.118070 -0.042930  0.103516 -0.154581  0.050848 -0.054650 -0.216454   \n",
            "2 -0.070815  0.075663 -0.286934  0.514674  0.132424 -0.031392 -0.614289   \n",
            "3  1.400871  5.322310 -3.321285 -4.839162  5.026267  3.068814 -1.379216   \n",
            "4  0.354375  0.609584  0.430779  0.147729 -1.587247 -0.811835 -0.089187   \n",
            "\n",
            "        PC8       PC9      PC10  y  \n",
            "0  0.137859 -0.393484  0.363043  0  \n",
            "1  0.096902 -0.070218 -0.391903  0  \n",
            "2  0.126380 -0.079977  0.565491  0  \n",
            "3 -1.344501 -0.189028  7.567831  0  \n",
            "4 -1.112950 -0.218575 -0.226199  0  \n"
          ]
        }
      ],
      "source": [
        "# Apply PCA\n",
        "n_components = 10\n",
        "pca1 = PCA(n_components=n_components)\n",
        "X_pca1 = pca1.fit_transform(X_standardized)\n",
        "\n",
        "pca_df1 = pd.DataFrame(data=X_pca1, columns=[f'PC{i+1}' for i in range(n_components)])\n",
        "pca_df1['y'] = y_categorical\n",
        "\n",
        "print(pca_df1.head())"
      ]
    },
    {
      "cell_type": "markdown",
      "metadata": {
        "id": "rM9UM53zWtE_"
      },
      "source": [
        "**Data splitting**"
      ]
    },
    {
      "cell_type": "code",
      "execution_count": 154,
      "metadata": {
        "id": "xR6YQZupN1JM"
      },
      "outputs": [],
      "source": [
        "X_train, X_temp, y_train, y_temp = train_test_split(\n",
        "    pca_df1.iloc[:, :-1],\n",
        "    pca_df1['y'],\n",
        "    test_size=0.3,\n",
        "    random_state=42\n",
        ")\n",
        "\n",
        "X_val, X_test, y_val, y_test = train_test_split(\n",
        "    X_temp, y_temp,\n",
        "    test_size=0.5,\n",
        "    random_state=42\n",
        ")\n"
      ]
    },
    {
      "cell_type": "markdown",
      "metadata": {
        "id": "hMDBTuB6XCCD"
      },
      "source": [
        "**SVM with RBF kernel**"
      ]
    },
    {
      "cell_type": "code",
      "execution_count": 155,
      "metadata": {
        "id": "bpUt2VOBN_m9"
      },
      "outputs": [],
      "source": [
        "svm = SVC()\n",
        "\n",
        "\n",
        "param_grid = {\n",
        "    'C': [0.1, 10],\n",
        "    'kernel': [ 'rbf'],\n",
        "}"
      ]
    },
    {
      "cell_type": "code",
      "execution_count": 156,
      "metadata": {},
      "outputs": [
        {
          "name": "stdout",
          "output_type": "stream",
          "text": [
            "Classes présentes dans y_val : [0 4]\n",
            "Classes présentes dans y_test : [0 4]\n"
          ]
        }
      ],
      "source": [
        "print(\"Classes présentes dans y_val :\", np.unique(y_val))\n",
        "print(\"Classes présentes dans y_test :\", np.unique(y_test))"
      ]
    },
    {
      "cell_type": "code",
      "execution_count": 157,
      "metadata": {},
      "outputs": [
        {
          "name": "stdout",
          "output_type": "stream",
          "text": [
            "Distribution des classes (Validation) : {0: 1418, 4: 382}\n",
            "Distribution des classes (Test) : {0: 1449, 4: 351}\n"
          ]
        }
      ],
      "source": [
        "print(\"Distribution des classes (Validation) :\", dict(zip(*np.unique(y_val, return_counts=True))))\n",
        "print(\"Distribution des classes (Test) :\", dict(zip(*np.unique(y_test, return_counts=True))))\n"
      ]
    },
    {
      "cell_type": "code",
      "execution_count": 158,
      "metadata": {
        "id": "eN1mDWdsFDyJ"
      },
      "outputs": [
        {
          "name": "stderr",
          "output_type": "stream",
          "text": [
            "c:\\Users\\MSI\\anaconda3\\lib\\site-packages\\sklearn\\metrics\\_classification.py:1344: UndefinedMetricWarning: Precision is ill-defined and being set to 0.0 in labels with no predicted samples. Use `zero_division` parameter to control this behavior.\n",
            "  _warn_prf(average, modifier, msg_start, len(result))\n",
            "c:\\Users\\MSI\\anaconda3\\lib\\site-packages\\sklearn\\metrics\\_classification.py:1344: UndefinedMetricWarning: Precision is ill-defined and being set to 0.0 in labels with no predicted samples. Use `zero_division` parameter to control this behavior.\n",
            "  _warn_prf(average, modifier, msg_start, len(result))\n"
          ]
        }
      ],
      "source": [
        "grid_search = GridSearchCV(estimator=svm, param_grid=param_grid, cv=5)\n",
        "grid_search.fit(X_train, y_train)\n",
        "\n",
        "\n",
        "best_params = grid_search.best_params_\n",
        "\n",
        "\n",
        "best_svm = SVC(**best_params)\n",
        "best_svm.fit(X_train, y_train)\n",
        "\n",
        "# Prédictions sur les ensembles de validation et de test\n",
        "y_val_pred = best_svm.predict(X_val)\n",
        "y_test_pred = best_svm.predict(X_test)\n",
        "\n",
        "# Calcul des métriques pour l’ensemble de validation\n",
        "val_accuracy = accuracy_score(y_val, y_val_pred)\n",
        "val_recall = recall_score(y_val, y_val_pred, average='macro')\n",
        "val_precision = precision_score(y_val, y_val_pred, average='macro')\n",
        "val_f1 = f1_score(y_val, y_val_pred, average='macro')\n",
        "\n",
        "# Calcul des métriques pour l’ensemble de test\n",
        "test_accuracy = accuracy_score(y_test, y_test_pred)\n",
        "test_recall = recall_score(y_test, y_test_pred, average='macro')\n",
        "test_precision = precision_score(y_test, y_test_pred, average='macro')\n",
        "test_f1 = f1_score(y_test, y_test_pred, average='macro')"
      ]
    },
    {
      "cell_type": "code",
      "execution_count": 159,
      "metadata": {
        "id": "yA1DXTfyODYL",
        "outputId": "7b446c88-4cdc-4df5-d80e-da587e7f3b68"
      },
      "outputs": [
        {
          "name": "stdout",
          "output_type": "stream",
          "text": [
            "\n",
            "Best Hyperparameters: {'C': 0.1, 'kernel': 'rbf'}\n",
            "Validation Accuracy: 0.7878\n",
            "Validation Recall: 0.5000\n",
            "Validation Precision: 0.3939\n",
            "Validation F1 Score: 0.4406\n",
            "Test Accuracy: 0.8050\n",
            "Test Recall: 0.5000\n",
            "Test Precision: 0.4025\n",
            "Test F1 Score: 0.4460\n"
          ]
        }
      ],
      "source": [
        "# Affichage des résultats\n",
        "print(f\"\\nBest Hyperparameters: {best_params}\")\n",
        "print(f\"Validation Accuracy: {val_accuracy:.4f}\")\n",
        "print(f\"Validation Recall: {val_recall:.4f}\")\n",
        "print(f\"Validation Precision: {val_precision:.4f}\")\n",
        "print(f\"Validation F1 Score: {val_f1:.4f}\")\n",
        "\n",
        "print(f\"Test Accuracy: {test_accuracy:.4f}\")\n",
        "print(f\"Test Recall: {test_recall:.4f}\")\n",
        "print(f\"Test Precision: {test_precision:.4f}\")\n",
        "print(f\"Test F1 Score: {test_f1:.4f}\")"
      ]
    },
    {
      "cell_type": "markdown",
      "metadata": {
        "id": "0BycpCb4FDyJ"
      },
      "source": [
        "**PCA with 50 components**"
      ]
    },
    {
      "cell_type": "code",
      "execution_count": 160,
      "metadata": {
        "id": "Hc51ZXIwOl2d",
        "outputId": "700c442b-c5a5-40af-c28f-42e5cd285fa8"
      },
      "outputs": [
        {
          "name": "stdout",
          "output_type": "stream",
          "text": [
            "        PC1       PC2       PC3       PC4       PC5       PC6       PC7  \\\n",
            "0  1.490529 -0.301733  0.872491  1.435115 -1.442837  0.272436 -0.370484   \n",
            "1  0.118431 -0.045057  0.105669 -0.152561  0.057872 -0.043612 -0.221590   \n",
            "2 -0.071872  0.080106 -0.299627  0.489411  0.124732 -0.059033 -0.601013   \n",
            "3  1.392762  5.332407 -3.419175 -4.804313  4.921890  3.231304 -1.570721   \n",
            "4  0.354585  0.603351  0.423001  0.163948 -1.586234 -0.738801 -0.137463   \n",
            "\n",
            "        PC8       PC9      PC10  ...      PC42      PC43      PC44      PC45  \\\n",
            "0  0.178726 -0.456315  0.313247  ...  0.309861  0.217899  0.535883 -0.009726   \n",
            "1  0.087474 -0.071882  0.038647  ...  0.323854  0.611628  0.064652 -0.203203   \n",
            "2  0.173498 -0.104971  0.259972  ...  0.061338  0.157473 -0.001629 -0.367787   \n",
            "3 -1.011457 -0.819192  8.301415  ... -0.556140  4.400409  2.773813  1.219583   \n",
            "4 -1.125973 -0.301204 -0.694847  ... -0.092240  0.069515  0.140477  1.168045   \n",
            "\n",
            "       PC46      PC47      PC48      PC49      PC50  y  \n",
            "0 -0.302726  0.198740 -0.098242 -0.016728  0.089668  0  \n",
            "1  0.216252 -0.194249 -0.134138 -0.016390  0.131486  0  \n",
            "2  0.116834 -0.704561  0.178973 -0.193343  0.109680  0  \n",
            "3 -0.446392  0.074618  1.158233  1.024439  2.160368  0  \n",
            "4 -0.423515  0.324254  0.398452  0.943064  0.384617  0  \n",
            "\n",
            "[5 rows x 51 columns]\n"
          ]
        }
      ],
      "source": [
        "n_components = 50\n",
        "pca = PCA(n_components=n_components)\n",
        "X_pca = pca.fit_transform(X_standardized)\n",
        "\n",
        "\n",
        "pca_df = pd.DataFrame(data=X_pca, columns=[f'PC{i+1}' for i in range(n_components)])\n",
        "pca_df['y'] = y_categorical\n",
        "\n",
        "\n",
        "print(pca_df.head())\n"
      ]
    },
    {
      "cell_type": "code",
      "execution_count": 161,
      "metadata": {
        "id": "RpyUWp47O-MG"
      },
      "outputs": [],
      "source": [
        "X_train, X_temp, y_train, y_temp = train_test_split(\n",
        "    pca_df.iloc[:, :-1],\n",
        "    pca_df['y'],\n",
        "    test_size=0.3,\n",
        "    random_state=42\n",
        ")\n",
        "\n",
        "\n",
        "X_val, X_test, y_val, y_test = train_test_split(\n",
        "    X_temp, y_temp,\n",
        "    test_size=0.5,\n",
        "    random_state=42\n",
        ")\n"
      ]
    },
    {
      "cell_type": "markdown",
      "metadata": {
        "id": "wcwd9emeXb1Q"
      },
      "source": [
        "**SVM with RBF kernel**"
      ]
    },
    {
      "cell_type": "code",
      "execution_count": 162,
      "metadata": {
        "id": "M_Wkfj3ePD_E"
      },
      "outputs": [],
      "source": [
        "svm = SVC()\n",
        "\n",
        "\n",
        "param_grid = {\n",
        "    'C': [1, 10],\n",
        "    'kernel': [ 'rbf'],\n",
        "}\n"
      ]
    },
    {
      "cell_type": "code",
      "execution_count": 163,
      "metadata": {
        "id": "SXD5PKngFDyJ"
      },
      "outputs": [
        {
          "name": "stderr",
          "output_type": "stream",
          "text": [
            "c:\\Users\\MSI\\anaconda3\\lib\\site-packages\\sklearn\\metrics\\_classification.py:1344: UndefinedMetricWarning: Precision is ill-defined and being set to 0.0 in labels with no predicted samples. Use `zero_division` parameter to control this behavior.\n",
            "  _warn_prf(average, modifier, msg_start, len(result))\n"
          ]
        }
      ],
      "source": [
        "grid_search = GridSearchCV(estimator=svm, param_grid=param_grid, cv=5)\n",
        "grid_search.fit(X_train, y_train)\n",
        "\n",
        "\n",
        "best_params = grid_search.best_params_\n",
        "\n",
        "\n",
        "best_svm = SVC(**best_params)\n",
        "best_svm.fit(X_train, y_train)\n",
        "\n",
        "# Prédictions sur les ensembles de validation et de test\n",
        "y_val_pred = best_svm.predict(X_val)\n",
        "y_test_pred = best_svm.predict(X_test)\n",
        "\n",
        "# Calcul des métriques pour l’ensemble de validation\n",
        "val_accuracy = accuracy_score(y_val, y_val_pred)\n",
        "val_recall = recall_score(y_val, y_val_pred, average='macro')\n",
        "val_precision = precision_score(y_val, y_val_pred, average='macro')\n",
        "val_f1 = f1_score(y_val, y_val_pred, average='macro')\n",
        "\n",
        "# Calcul des métriques pour l’ensemble de test\n",
        "test_accuracy = accuracy_score(y_test, y_test_pred)\n",
        "test_recall = recall_score(y_test, y_test_pred, average='macro')\n",
        "test_precision = precision_score(y_test, y_test_pred, average='macro')\n",
        "test_f1 = f1_score(y_test, y_test_pred, average='macro')\n",
        "\n",
        "\n"
      ]
    },
    {
      "cell_type": "code",
      "execution_count": 164,
      "metadata": {
        "id": "tnJt79G9OLjG",
        "outputId": "368af538-5d72-427a-dfe7-34e95a422365"
      },
      "outputs": [
        {
          "name": "stdout",
          "output_type": "stream",
          "text": [
            "\n",
            "Best Hyperparameters: {'C': 10, 'kernel': 'rbf'}\n",
            "Validation Accuracy: 0.7878\n",
            "Validation Recall: 0.5000\n",
            "Validation Precision: 0.3939\n",
            "Validation F1 Score: 0.4406\n",
            "Test Accuracy: 0.8056\n",
            "Test Recall: 0.5014\n",
            "Test Precision: 0.9027\n",
            "Test F1 Score: 0.4490\n"
          ]
        }
      ],
      "source": [
        "print(f\"\\nBest Hyperparameters: {best_params}\")\n",
        "print(f\"Validation Accuracy: {val_accuracy:.4f}\")\n",
        "print(f\"Validation Recall: {val_recall:.4f}\")\n",
        "print(f\"Validation Precision: {val_precision:.4f}\")\n",
        "print(f\"Validation F1 Score: {val_f1:.4f}\")\n",
        "\n",
        "print(f\"Test Accuracy: {test_accuracy:.4f}\")\n",
        "print(f\"Test Recall: {test_recall:.4f}\")\n",
        "print(f\"Test Precision: {test_precision:.4f}\")\n",
        "print(f\"Test F1 Score: {test_f1:.4f}\")"
      ]
    },
    {
      "cell_type": "markdown",
      "metadata": {
        "id": "w0TLl7DQm2pD"
      },
      "source": [
        "**SVM with poly kernel**"
      ]
    },
    {
      "cell_type": "code",
      "execution_count": 165,
      "metadata": {
        "id": "MY9VdgaVm2pD"
      },
      "outputs": [],
      "source": [
        "svm = SVC()\n",
        "\n",
        "\n",
        "param_grid = {\n",
        "    'C': [0.1, 10],\n",
        "    'kernel': [ 'poly'],\n",
        "}"
      ]
    },
    {
      "cell_type": "code",
      "execution_count": 166,
      "metadata": {
        "id": "_0rS0zPqm2pD"
      },
      "outputs": [
        {
          "name": "stderr",
          "output_type": "stream",
          "text": [
            "c:\\Users\\MSI\\anaconda3\\lib\\site-packages\\sklearn\\metrics\\_classification.py:1344: UndefinedMetricWarning: Precision is ill-defined and being set to 0.0 in labels with no predicted samples. Use `zero_division` parameter to control this behavior.\n",
            "  _warn_prf(average, modifier, msg_start, len(result))\n",
            "c:\\Users\\MSI\\anaconda3\\lib\\site-packages\\sklearn\\metrics\\_classification.py:1344: UndefinedMetricWarning: Precision is ill-defined and being set to 0.0 in labels with no predicted samples. Use `zero_division` parameter to control this behavior.\n",
            "  _warn_prf(average, modifier, msg_start, len(result))\n"
          ]
        }
      ],
      "source": [
        "\n",
        "grid_search = GridSearchCV(estimator=svm, param_grid=param_grid, cv=5)\n",
        "grid_search.fit(X_train, y_train)\n",
        "\n",
        "\n",
        "best_params = grid_search.best_params_\n",
        "\n",
        "\n",
        "best_svm = SVC(**best_params)\n",
        "best_svm.fit(X_train, y_train)\n",
        "\n",
        "# Prédictions sur les ensembles de validation et de test\n",
        "y_val_pred = best_svm.predict(X_val)\n",
        "y_test_pred = best_svm.predict(X_test)\n",
        "\n",
        "# Calcul des métriques pour l’ensemble de validation\n",
        "val_accuracy = accuracy_score(y_val, y_val_pred)\n",
        "val_recall = recall_score(y_val, y_val_pred, average='macro')\n",
        "val_precision = precision_score(y_val, y_val_pred, average='macro')\n",
        "val_f1 = f1_score(y_val, y_val_pred, average='macro')\n",
        "\n",
        "# Calcul des métriques pour l’ensemble de test\n",
        "test_accuracy = accuracy_score(y_test, y_test_pred)\n",
        "test_recall = recall_score(y_test, y_test_pred, average='macro')\n",
        "test_precision = precision_score(y_test, y_test_pred, average='macro')\n",
        "test_f1 = f1_score(y_test, y_test_pred, average='macro')\n"
      ]
    },
    {
      "cell_type": "code",
      "execution_count": 167,
      "metadata": {
        "id": "yxWqX9xJm2pD",
        "outputId": "f72e923c-1b8e-4b1e-ea2b-704429683efc"
      },
      "outputs": [
        {
          "name": "stdout",
          "output_type": "stream",
          "text": [
            "\n",
            "Best Hyperparameters: {'C': 0.1, 'kernel': 'poly'}\n",
            "Validation Accuracy: 0.7878\n",
            "Validation Recall: 0.5000\n",
            "Validation Precision: 0.3939\n",
            "Validation F1 Score: 0.4406\n",
            "Test Accuracy: 0.8050\n",
            "Test Recall: 0.5000\n",
            "Test Precision: 0.4025\n",
            "Test F1 Score: 0.4460\n"
          ]
        }
      ],
      "source": [
        "print(f\"\\nBest Hyperparameters: {best_params}\")\n",
        "print(f\"Validation Accuracy: {val_accuracy:.4f}\")\n",
        "print(f\"Validation Recall: {val_recall:.4f}\")\n",
        "print(f\"Validation Precision: {val_precision:.4f}\")\n",
        "print(f\"Validation F1 Score: {val_f1:.4f}\")\n",
        "\n",
        "print(f\"Test Accuracy: {test_accuracy:.4f}\")\n",
        "print(f\"Test Recall: {test_recall:.4f}\")\n",
        "print(f\"Test Precision: {test_precision:.4f}\")\n",
        "print(f\"Test F1 Score: {test_f1:.4f}\")"
      ]
    },
    {
      "cell_type": "markdown",
      "metadata": {
        "id": "JzZYo0tsFDyJ"
      },
      "source": [
        "**Symlet Wavelet**\n",
        "\n",
        "\n",
        "*   PCA with 50 components and RBF kernel for SVM\n",
        "*   PCA with 50 components and Poly kernel for SVM\n",
        "\n"
      ]
    },
    {
      "cell_type": "markdown",
      "metadata": {
        "id": "QnFbaGyPZi2D"
      },
      "source": [
        "\n",
        "### Symlet8"
      ]
    },
    {
      "cell_type": "code",
      "execution_count": 168,
      "metadata": {
        "id": "uSCRZKM6FDyK",
        "outputId": "bda6d88b-2b6d-4466-8156-0bbaaf76b3d5"
      },
      "outputs": [
        {
          "name": "stdout",
          "output_type": "stream",
          "text": [
            "    wavelet_0   wavelet_1   wavelet_2   wavelet_3   wavelet_4   wavelet_5  \\\n",
            "0  -94.756346 -165.398076 -116.153324  -32.433631 -158.636329 -179.198115   \n",
            "1   -3.985286   60.547166   10.153672  -25.652867   49.740349   37.747908   \n",
            "2   23.411090   -9.694345   15.851554   28.711176   -2.983404   -2.099400   \n",
            "3 -820.779605 -497.543176 -771.921118 -838.501161 -567.434650 -665.818999   \n",
            "4  -30.002663  -30.687820  -30.425846  -24.443170  -31.653690  -28.687429   \n",
            "\n",
            "    wavelet_6    wavelet_7   wavelet_8   wavelet_9  ...  wavelet_196  \\\n",
            "0   43.021692   -60.831785 -172.584640   21.481411  ...     3.798133   \n",
            "1  -28.453836   -96.097605 -105.338209 -112.397992  ...    -0.177071   \n",
            "2   46.817731   122.945772   40.073038  -84.189358  ...     3.271679   \n",
            "3 -838.203769 -1146.254768  283.733813  584.307345  ...    -3.815564   \n",
            "4  -40.553062    16.590842  -24.820816   57.570123  ...     0.961533   \n",
            "\n",
            "   wavelet_197  wavelet_198  wavelet_199  wavelet_200  wavelet_201  \\\n",
            "0    -2.749268     0.134112    -0.635368    -1.909355    -2.615165   \n",
            "1     1.833531     2.327316     3.546521     3.918172    -0.317674   \n",
            "2    -1.762900     2.237710     5.414969    -4.154856     2.805753   \n",
            "3    -0.151490     0.080117    -1.729911     1.506829     4.850512   \n",
            "4     3.162434     3.233392     1.423515    -0.362321     1.520020   \n",
            "\n",
            "   wavelet_202  wavelet_203  wavelet_204    y  \n",
            "0     5.603294    -3.030447     5.435271  0.0  \n",
            "1    -0.593140    -6.987244    -0.209470  0.0  \n",
            "2    -1.219473    -0.215770    -4.095395  0.0  \n",
            "3    -6.688442     1.116056    -0.084667  0.0  \n",
            "4    -2.751926     3.396348    -8.203210  0.0  \n",
            "\n",
            "[5 rows x 206 columns]\n"
          ]
        }
      ],
      "source": [
        "\n",
        "X = ESR.iloc[:, :-1]\n",
        "\n",
        "\n",
        "def apply_wavelet_transform(row, wavelet_name='sym8', level=2):\n",
        "    coeffs = pywt.wavedec(row, wavelet_name, level=level)\n",
        "    return np.concatenate(coeffs)\n",
        "\n",
        "\n",
        "wavelet_data = np.apply_along_axis(apply_wavelet_transform, axis=1, arr=X.to_numpy())\n",
        "\n",
        "\n",
        "wavelet_df = pd.DataFrame(wavelet_data, columns=[f'wavelet_{i}' for i in range(len(wavelet_data[0]))])\n",
        "\n",
        "\n",
        "wavelet_df['y'] = ESR['y']\n",
        "\n",
        "\n",
        "print(wavelet_df.head())\n",
        "\n"
      ]
    },
    {
      "cell_type": "code",
      "execution_count": 169,
      "metadata": {
        "id": "Tw2MBtMIm2pD"
      },
      "outputs": [],
      "source": [
        "X = wavelet_df.iloc[:, :-1]\n",
        "y = wavelet_df['y']\n",
        "\n",
        "\n",
        "num_bins = 5\n",
        "y_categorical = pd.cut(y, bins=num_bins, labels=False)\n",
        "\n",
        "\n",
        "scaler = StandardScaler()\n",
        "X_standardized = scaler.fit_transform(X)"
      ]
    },
    {
      "cell_type": "code",
      "execution_count": 170,
      "metadata": {
        "id": "9-5Wycwam2pD",
        "outputId": "e9aa1720-0166-4653-8037-1484b743f155"
      },
      "outputs": [
        {
          "name": "stdout",
          "output_type": "stream",
          "text": [
            "        PC1       PC2       PC3       PC4       PC5       PC6       PC7  \\\n",
            "0  2.217236  0.207573  0.621366 -0.169177  0.973512 -1.977897  2.501239   \n",
            "1 -0.426369  0.249221 -0.376759 -0.087098 -0.119016  0.983040  0.019004   \n",
            "2 -0.030357 -0.540689  0.175742  1.129250  0.328519 -1.184048  0.680726   \n",
            "3  6.672086  2.289375  4.786819  2.895688 -1.342744  4.629337  2.612463   \n",
            "4  0.571350  0.312324  0.077724  0.170616  0.303093 -1.427722  0.222655   \n",
            "\n",
            "        PC8       PC9      PC10  ...      PC42      PC43      PC44      PC45  \\\n",
            "0 -2.063841 -0.326040  1.043804  ... -0.347264 -1.146311  0.719601  0.461705   \n",
            "1  0.328475 -0.217044 -0.490473  ... -0.576814 -0.280307  0.437754 -0.311253   \n",
            "2 -1.473914 -1.111026 -0.385950  ... -0.020384 -0.715898  0.243148 -0.187037   \n",
            "3 -2.554603 -0.601509  4.509989  ... -2.271487  1.071547  3.086380  0.196733   \n",
            "4 -1.025753 -0.533325 -0.321148  ...  0.068568 -0.472654 -0.396972 -0.204154   \n",
            "\n",
            "       PC46      PC47      PC48      PC49      PC50  y  \n",
            "0 -0.199933  0.894504  0.403658  0.266079  0.229102  0  \n",
            "1 -0.151487  0.104803 -0.352718  0.066653  0.330403  0  \n",
            "2 -0.593610  0.074632 -0.186255  0.014382  0.772900  0  \n",
            "3  2.005420 -0.328265 -0.062838 -1.800915  0.119103  0  \n",
            "4  0.500818 -0.201287 -0.617840 -0.289212 -0.431166  0  \n",
            "\n",
            "[5 rows x 51 columns]\n"
          ]
        }
      ],
      "source": [
        "n_components = 50\n",
        "pca = PCA(n_components=n_components)\n",
        "X_pca = pca.fit_transform(X_standardized)\n",
        "\n",
        "\n",
        "pca_df = pd.DataFrame(data=X_pca, columns=[f'PC{i+1}' for i in range(n_components)])\n",
        "pca_df['y'] = y_categorical\n",
        "\n",
        "\n",
        "print(pca_df.head())"
      ]
    },
    {
      "cell_type": "code",
      "execution_count": 171,
      "metadata": {
        "id": "n1-V2x9mm2pE"
      },
      "outputs": [],
      "source": [
        "X_train, X_temp, y_train, y_temp = train_test_split(\n",
        "    pca_df.iloc[:, :-1],\n",
        "    pca_df['y'],\n",
        "    test_size=0.3,\n",
        "    random_state=42\n",
        ")\n",
        "\n",
        "X_val, X_test, y_val, y_test = train_test_split(\n",
        "    X_temp, y_temp,\n",
        "    test_size=0.5,\n",
        "    random_state=42\n",
        ")"
      ]
    },
    {
      "cell_type": "markdown",
      "metadata": {
        "id": "0cJoLYVBm2pE"
      },
      "source": [
        "**SVM with polynomial kernel**"
      ]
    },
    {
      "cell_type": "code",
      "execution_count": 172,
      "metadata": {
        "id": "urn1OUlNPYTW"
      },
      "outputs": [],
      "source": [
        "svm = SVC()\n",
        "\n",
        "param_grid = {\n",
        "    'C': [0.1, 1, 10],\n",
        "    'kernel': [ 'poly'],\n",
        "}\n"
      ]
    },
    {
      "cell_type": "code",
      "execution_count": 173,
      "metadata": {
        "id": "PGcG3cxdFDyL"
      },
      "outputs": [
        {
          "name": "stderr",
          "output_type": "stream",
          "text": [
            "c:\\Users\\MSI\\anaconda3\\lib\\site-packages\\sklearn\\metrics\\_classification.py:1344: UndefinedMetricWarning: Precision is ill-defined and being set to 0.0 due to no predicted samples. Use `zero_division` parameter to control this behavior.\n",
            "  _warn_prf(average, modifier, msg_start, len(result))\n"
          ]
        }
      ],
      "source": [
        "\n",
        "grid_search = GridSearchCV(estimator=svm, param_grid=param_grid, cv=5)\n",
        "grid_search.fit(X_train, y_train)\n",
        "\n",
        "best_params = grid_search.best_params_\n",
        "\n",
        "best_svm = SVC(**best_params)\n",
        "best_svm.fit(X_train, y_train)\n",
        "\n",
        "y_val_pred = best_svm.predict(X_val)\n",
        "\n",
        "val_accuracy = accuracy_score(y_val, y_val_pred)\n",
        "val_recall = recall_score(y_val, y_val_pred, pos_label=4)\n",
        "val_precision = precision_score(y_val, y_val_pred, pos_label=4)\n",
        "val_f1 = f1_score(y_val, y_val_pred, pos_label=4)\n",
        "\n",
        "\n",
        "\n",
        "y_test_pred = best_svm.predict(X_test)\n",
        "\n",
        "test_accuracy = accuracy_score(y_test, y_test_pred)\n",
        "test_recall = recall_score(y_test, y_test_pred, pos_label=4)\n",
        "test_precision = precision_score(y_test, y_test_pred, pos_label=4)\n",
        "test_f1 = f1_score(y_test, y_test_pred, pos_label=4)\n",
        "\n",
        "\n"
      ]
    },
    {
      "cell_type": "code",
      "execution_count": 174,
      "metadata": {
        "id": "5nOuSt-KFDyL",
        "outputId": "21afa037-769e-46ad-b0bd-63124a3e80d9"
      },
      "outputs": [
        {
          "name": "stdout",
          "output_type": "stream",
          "text": [
            "\n",
            "Best Hyperparameters: {'C': 0.1, 'kernel': 'poly'}\n",
            "Validation Accuracy: 0.7872\n",
            "Validation Recall: 0.0000\n",
            "Validation Precision: 0.0000\n",
            "Validation F1 Score: 0.0000\n",
            "Test Accuracy: 0.8050\n",
            "Test Recall: 0.0000\n",
            "Test Precision: 0.0000\n",
            "Test F1 Score: 0.0000\n"
          ]
        }
      ],
      "source": [
        "print(f\"\\nBest Hyperparameters: {best_params}\")\n",
        "print(f\"Validation Accuracy: {val_accuracy:.4f}\")\n",
        "print(f\"Validation Recall: {val_recall:.4f}\")\n",
        "print(f\"Validation Precision: {val_precision:.4f}\")\n",
        "print(f\"Validation F1 Score: {val_f1:.4f}\")\n",
        "\n",
        "print(f\"Test Accuracy: {test_accuracy:.4f}\")\n",
        "print(f\"Test Recall: {test_recall:.4f}\")\n",
        "print(f\"Test Precision: {test_precision:.4f}\")\n",
        "print(f\"Test F1 Score: {test_f1:.4f}\")"
      ]
    },
    {
      "cell_type": "markdown",
      "metadata": {
        "id": "y_BfxTdBm2pE"
      },
      "source": [
        "**SVM with RBF**"
      ]
    },
    {
      "cell_type": "code",
      "execution_count": 175,
      "metadata": {
        "id": "ZVvSGymue9tn"
      },
      "outputs": [],
      "source": [
        "svm = SVC()\n",
        "\n",
        "param_grid = {\n",
        "    'C': [0.1, 1, 10],\n",
        "    'kernel': [ 'rbf'],\n",
        "}\n"
      ]
    },
    {
      "cell_type": "code",
      "execution_count": 176,
      "metadata": {
        "id": "DsUqVUIjfBep"
      },
      "outputs": [],
      "source": [
        "grid_search = GridSearchCV(estimator=svm, param_grid=param_grid, cv=5)\n",
        "grid_search.fit(X_train, y_train)\n",
        "\n",
        "best_params = grid_search.best_params_\n",
        "\n",
        "best_svm = SVC(**best_params)\n",
        "best_svm.fit(X_train, y_train)\n",
        "\n",
        "y_val_pred = best_svm.predict(X_val)\n",
        "\n",
        "val_accuracy = accuracy_score(y_val, y_val_pred)\n",
        "val_recall = recall_score(y_val, y_val_pred, pos_label=4)\n",
        "val_precision = precision_score(y_val, y_val_pred, pos_label=4)\n",
        "val_f1 = f1_score(y_val, y_val_pred, pos_label=4)\n",
        "\n",
        "\n",
        "\n",
        "y_test_pred = best_svm.predict(X_test)\n",
        "\n",
        "test_accuracy = accuracy_score(y_test, y_test_pred)\n",
        "test_recall = recall_score(y_test, y_test_pred, pos_label=4)\n",
        "test_precision = precision_score(y_test, y_test_pred, pos_label=4)\n",
        "test_f1 = f1_score(y_test, y_test_pred, pos_label=4)\n",
        "\n"
      ]
    },
    {
      "cell_type": "code",
      "execution_count": 177,
      "metadata": {
        "id": "8NLk8UaWfEm_",
        "outputId": "d6362f26-aefd-4d0f-9e1d-ac2ad262a9c3"
      },
      "outputs": [
        {
          "name": "stdout",
          "output_type": "stream",
          "text": [
            "\n",
            "Best Hyperparameters: {'C': 10, 'kernel': 'rbf'}\n",
            "Validation Accuracy: 0.7917\n",
            "Validation Recall: 0.0419\n",
            "Validation Precision: 0.6400\n",
            "Validation F1 Score: 0.0786\n",
            "Test Accuracy: 0.8044\n",
            "Test Recall: 0.0142\n",
            "Test Precision: 0.4545\n",
            "Test F1 Score: 0.0276\n"
          ]
        }
      ],
      "source": [
        "print(f\"\\nBest Hyperparameters: {best_params}\")\n",
        "print(f\"Validation Accuracy: {val_accuracy:.4f}\")\n",
        "print(f\"Validation Recall: {val_recall:.4f}\")\n",
        "print(f\"Validation Precision: {val_precision:.4f}\")\n",
        "print(f\"Validation F1 Score: {val_f1:.4f}\")\n",
        "\n",
        "print(f\"Test Accuracy: {test_accuracy:.4f}\")\n",
        "print(f\"Test Recall: {test_recall:.4f}\")\n",
        "print(f\"Test Precision: {test_precision:.4f}\")\n",
        "print(f\"Test F1 Score: {test_f1:.4f}\")"
      ]
    },
    {
      "cell_type": "markdown",
      "metadata": {
        "id": "R3_HYltSaG89"
      },
      "source": [
        "**Daubechies wavelet**\n",
        "\n",
        "\n",
        "\n",
        "*   PCA with 50 components and RBF kernel for SVM\n",
        "*   PCA with 50 components and Poly kernel for SVM\n",
        "\n",
        "\n"
      ]
    },
    {
      "cell_type": "markdown",
      "metadata": {
        "id": "xXg30h9Qalf6"
      },
      "source": [
        "### Daubechies wavelet"
      ]
    },
    {
      "cell_type": "code",
      "execution_count": 178,
      "metadata": {
        "id": "6ZY37L_EFDyL",
        "outputId": "54dffcc5-90e5-4377-f244-3f9913c56e7b"
      },
      "outputs": [
        {
          "name": "stdout",
          "output_type": "stream",
          "text": [
            "    wavelet_0   wavelet_1   wavelet_2   wavelet_3   wavelet_4   wavelet_5  \\\n",
            "0 -139.365716 -165.292088 -116.195690 -138.928727 -196.025140   17.941007   \n",
            "1   20.777514   56.970486   -5.112804   39.634414   45.970650  -18.221731   \n",
            "2   11.796269   -9.340355   26.587659   -0.296606   -3.163374   37.209788   \n",
            "3 -747.803050 -520.905070 -882.737632 -590.812968 -657.126269 -771.582995   \n",
            "4  -31.130686  -32.475232  -25.799224  -30.150530  -28.513503  -42.424100   \n",
            "\n",
            "     wavelet_6   wavelet_7   wavelet_8   wavelet_9  ...  wavelet_180  \\\n",
            "0   -26.597896 -174.943632  -12.857791  -44.445198  ...     3.317370   \n",
            "1   -91.876620 -104.452848 -113.100216 -101.435572  ...     2.557352   \n",
            "2   115.018243   62.509746  -74.200041 -138.112305  ...    -1.871277   \n",
            "3 -1203.460028  103.593542  602.299166  829.375886  ...     0.584266   \n",
            "4    10.833409  -17.953817   40.827310   98.267457  ...    -3.823265   \n",
            "\n",
            "   wavelet_181  wavelet_182  wavelet_183  wavelet_184  wavelet_185  \\\n",
            "0    -0.568797     0.626409    -4.963099     5.524192    -6.528925   \n",
            "1     0.791799     2.514204     0.825687     6.770453    -0.547381   \n",
            "2     4.289487    -2.225539     3.524805     4.127539    -3.918160   \n",
            "3   -11.100013     1.205589     4.255713    -2.473180     2.246558   \n",
            "4    -1.300403     0.655462     8.571797    -6.286722     3.672861   \n",
            "\n",
            "   wavelet_186  wavelet_187  wavelet_188    y  \n",
            "0     1.405752     3.682160    -3.928796  0.0  \n",
            "1     0.618437    -1.641067    -6.746514  0.0  \n",
            "2     0.696962     2.496474    -6.371872  0.0  \n",
            "3    -0.875858    -2.267677    -0.025308  0.0  \n",
            "4     0.357699    -0.113292     2.811144  0.0  \n",
            "\n",
            "[5 rows x 190 columns]\n"
          ]
        }
      ],
      "source": [
        "\n",
        "X = ESR.iloc[:, :-1]\n",
        "\n",
        "def apply_wavelet_transform(row, wavelet_name='db4', level=2):\n",
        "    coeffs = pywt.wavedec(row, wavelet_name, level=level)\n",
        "    return np.concatenate(coeffs)\n",
        "\n",
        "wavelet_data = np.apply_along_axis(apply_wavelet_transform, axis=1, arr=X.to_numpy())\n",
        "\n",
        "wavelet_df = pd.DataFrame(wavelet_data, columns=[f'wavelet_{i}' for i in range(len(wavelet_data[0]))])\n",
        "\n",
        "wavelet_df['y'] = ESR['y']\n",
        "\n",
        "print(wavelet_df.head())\n"
      ]
    },
    {
      "cell_type": "code",
      "execution_count": 179,
      "metadata": {
        "id": "7MWOhVjlP4lA"
      },
      "outputs": [],
      "source": [
        "X = wavelet_df.iloc[:, :-1]\n",
        "y = wavelet_df['y']\n",
        "\n",
        "\n",
        "num_bins = 5\n",
        "y_categorical = pd.cut(y, bins=num_bins, labels=False)\n",
        "\n",
        "\n",
        "scaler = StandardScaler()\n",
        "X_standardized = scaler.fit_transform(X)\n",
        "\n"
      ]
    },
    {
      "cell_type": "markdown",
      "metadata": {
        "id": "rwdU5rb4c544"
      },
      "source": [
        "**PCA with 50 components**"
      ]
    },
    {
      "cell_type": "code",
      "execution_count": 180,
      "metadata": {
        "id": "11e_wbOcP8Ls",
        "outputId": "7ec50922-ad66-4947-a1c8-7a5b58ff7ce3"
      },
      "outputs": [
        {
          "name": "stdout",
          "output_type": "stream",
          "text": [
            "        PC1       PC2       PC3       PC4       PC5       PC6       PC7  \\\n",
            "0  0.705175 -1.850401  0.224531 -0.605401 -0.138704 -0.327483 -0.262843   \n",
            "1 -0.201176  0.046075 -0.509491 -0.574713 -0.085652  0.282143  0.343744   \n",
            "2 -0.121263  0.161119 -0.634300  0.474027  0.308552 -0.115233  0.370926   \n",
            "3  2.417860 -5.151474 -2.381547  1.582681  5.828093  1.777775 -1.547139   \n",
            "4  0.131850 -0.061095  0.572563  0.927272  0.312437 -0.676784  0.682769   \n",
            "\n",
            "        PC8       PC9      PC10  ...      PC42      PC43      PC44      PC45  \\\n",
            "0  0.173005 -1.055938 -0.144578  ...  1.127400 -0.756992  1.530777 -1.835033   \n",
            "1 -0.163697 -0.313750 -0.278228  ...  0.503745 -0.194247  0.027633  0.108266   \n",
            "2  0.576411 -0.318601 -0.782228  ...  0.464072 -0.570603  0.491977  0.182091   \n",
            "3 -2.175000 -0.005089  0.525074  ...  2.715677 -3.970058  0.524008  0.600474   \n",
            "4 -0.177226  1.253280  0.409684  ...  0.102506 -0.533012  0.088081 -0.413559   \n",
            "\n",
            "       PC46      PC47      PC48      PC49      PC50  y  \n",
            "0  0.016265 -0.051073  0.735113 -0.905348 -1.024009  0  \n",
            "1 -0.220930  0.415467 -0.129522  0.346625 -0.108019  0  \n",
            "2  0.174750  0.492119  0.022438  0.243919  0.187241  0  \n",
            "3  0.585933 -1.343550  5.311982 -1.474664  1.406766  0  \n",
            "4  0.173562 -0.270434 -0.318258 -0.932861 -0.667408  0  \n",
            "\n",
            "[5 rows x 51 columns]\n"
          ]
        }
      ],
      "source": [
        "n_components = 50\n",
        "pca = PCA(n_components=n_components)\n",
        "X_pca = pca.fit_transform(X_standardized)\n",
        "\n",
        "\n",
        "pca_df = pd.DataFrame(data=X_pca, columns=[f'PC{i+1}' for i in range(n_components)])\n",
        "pca_df['y'] = y_categorical\n",
        "\n",
        "\n",
        "print(pca_df.head())"
      ]
    },
    {
      "cell_type": "code",
      "execution_count": 181,
      "metadata": {
        "id": "naeKlgOdQBHc"
      },
      "outputs": [],
      "source": [
        "X_train, X_temp, y_train, y_temp = train_test_split(\n",
        "    pca_df.iloc[:, :-1],\n",
        "    pca_df['y'],\n",
        "    test_size=0.3,\n",
        "    random_state=42\n",
        ")\n",
        "\n",
        "X_val, X_test, y_val, y_test = train_test_split(\n",
        "    X_temp, y_temp,\n",
        "    test_size=0.5,\n",
        "    random_state=42\n",
        ")\n"
      ]
    },
    {
      "cell_type": "markdown",
      "metadata": {
        "id": "5LgO0YWIck3M"
      },
      "source": [
        "**SVM with Poly kernel**"
      ]
    },
    {
      "cell_type": "code",
      "execution_count": 182,
      "metadata": {
        "id": "c6nrBt66QFls"
      },
      "outputs": [],
      "source": [
        "svm = SVC()\n",
        "\n",
        "param_grid = {\n",
        "    'C': [0.1, 1, 10],\n",
        "    'kernel': [ 'poly'],\n",
        "}"
      ]
    },
    {
      "cell_type": "code",
      "execution_count": 183,
      "metadata": {
        "id": "0rl_s4roFDyM"
      },
      "outputs": [
        {
          "name": "stderr",
          "output_type": "stream",
          "text": [
            "c:\\Users\\MSI\\anaconda3\\lib\\site-packages\\sklearn\\metrics\\_classification.py:1344: UndefinedMetricWarning: Precision is ill-defined and being set to 0.0 due to no predicted samples. Use `zero_division` parameter to control this behavior.\n",
            "  _warn_prf(average, modifier, msg_start, len(result))\n",
            "c:\\Users\\MSI\\anaconda3\\lib\\site-packages\\sklearn\\metrics\\_classification.py:1344: UndefinedMetricWarning: Precision is ill-defined and being set to 0.0 due to no predicted samples. Use `zero_division` parameter to control this behavior.\n",
            "  _warn_prf(average, modifier, msg_start, len(result))\n"
          ]
        }
      ],
      "source": [
        "\n",
        "grid_search = GridSearchCV(estimator=svm, param_grid=param_grid, cv=5)\n",
        "grid_search.fit(X_train, y_train)\n",
        "\n",
        "best_params = grid_search.best_params_\n",
        "\n",
        "best_svm = SVC(**best_params)\n",
        "best_svm.fit(X_train, y_train)\n",
        "\n",
        "y_val_pred = best_svm.predict(X_val)\n",
        "\n",
        "val_accuracy = accuracy_score(y_val, y_val_pred)\n",
        "val_recall = recall_score(y_val, y_val_pred, pos_label=4)\n",
        "val_precision = precision_score(y_val, y_val_pred, pos_label=4)\n",
        "val_f1 = f1_score(y_val, y_val_pred, pos_label=4)\n",
        "\n",
        "y_test_pred = best_svm.predict(X_test)\n",
        "\n",
        "test_accuracy = accuracy_score(y_test, y_test_pred)\n",
        "test_recall = recall_score(y_test, y_test_pred, pos_label=4)\n",
        "test_precision = precision_score(y_test, y_test_pred, pos_label=4)\n",
        "test_f1 = f1_score(y_test, y_test_pred, pos_label=4)\n"
      ]
    },
    {
      "cell_type": "markdown",
      "metadata": {
        "id": "ev24fj9cFDyN"
      },
      "source": [
        "Hyperparameters for training with daubechies wavelet and poly kernel for SVM"
      ]
    },
    {
      "cell_type": "code",
      "execution_count": 184,
      "metadata": {
        "id": "BmQq5Pb6FDyN",
        "outputId": "8562d1fb-7523-424a-ec26-4570a4115c5c"
      },
      "outputs": [
        {
          "name": "stdout",
          "output_type": "stream",
          "text": [
            "\n",
            "Best Hyperparameters: {'C': 0.1, 'kernel': 'poly'}\n",
            "Validation Accuracy: 0.7878\n",
            "Validation Recall: 0.0000\n",
            "Validation Precision: 0.0000\n",
            "Validation F1 Score: 0.0000\n",
            "Test Accuracy: 0.8050\n",
            "Test Recall: 0.0000\n",
            "Test Precision: 0.0000\n",
            "Test F1 Score: 0.0000\n"
          ]
        }
      ],
      "source": [
        "\n",
        "print(f\"\\nBest Hyperparameters: {best_params}\")\n",
        "print(f\"Validation Accuracy: {val_accuracy:.4f}\")\n",
        "print(f\"Validation Recall: {val_recall:.4f}\")\n",
        "print(f\"Validation Precision: {val_precision:.4f}\")\n",
        "print(f\"Validation F1 Score: {val_f1:.4f}\")\n",
        "\n",
        "print(f\"Test Accuracy: {test_accuracy:.4f}\")\n",
        "print(f\"Test Recall: {test_recall:.4f}\")\n",
        "print(f\"Test Precision: {test_precision:.4f}\")\n",
        "print(f\"Test F1 Score: {test_f1:.4f}\")\n"
      ]
    },
    {
      "cell_type": "markdown",
      "metadata": {
        "id": "egQj2c6Rcr42"
      },
      "source": [
        "**SVM with RBF kernel**"
      ]
    },
    {
      "cell_type": "code",
      "execution_count": 185,
      "metadata": {
        "id": "dFLapMjBQbx6"
      },
      "outputs": [],
      "source": [
        "\n",
        "svm = SVC()\n",
        "\n",
        "param_grid = {\n",
        "    'C': [0.1, 1, 10],\n",
        "    'kernel': [ 'rbf'],\n",
        "}"
      ]
    },
    {
      "cell_type": "code",
      "execution_count": 186,
      "metadata": {
        "id": "7-gsxQ1qFDyN"
      },
      "outputs": [
        {
          "name": "stderr",
          "output_type": "stream",
          "text": [
            "c:\\Users\\MSI\\anaconda3\\lib\\site-packages\\sklearn\\metrics\\_classification.py:1344: UndefinedMetricWarning: Precision is ill-defined and being set to 0.0 due to no predicted samples. Use `zero_division` parameter to control this behavior.\n",
            "  _warn_prf(average, modifier, msg_start, len(result))\n",
            "c:\\Users\\MSI\\anaconda3\\lib\\site-packages\\sklearn\\metrics\\_classification.py:1344: UndefinedMetricWarning: Precision is ill-defined and being set to 0.0 due to no predicted samples. Use `zero_division` parameter to control this behavior.\n",
            "  _warn_prf(average, modifier, msg_start, len(result))\n"
          ]
        }
      ],
      "source": [
        "\n",
        "grid_search = GridSearchCV(estimator=svm, param_grid=param_grid, cv=5)\n",
        "grid_search.fit(X_train, y_train)\n",
        "\n",
        "best_params = grid_search.best_params_\n",
        "\n",
        "best_svm = SVC(**best_params)\n",
        "best_svm.fit(X_train, y_train)\n",
        "\n",
        "\n",
        "y_val_pred = best_svm.predict(X_val)\n",
        "\n",
        "val_accuracy = accuracy_score(y_val, y_val_pred)\n",
        "val_recall = recall_score(y_val, y_val_pred, pos_label=4)\n",
        "val_precision = precision_score(y_val, y_val_pred, pos_label=4)\n",
        "val_f1 = f1_score(y_val, y_val_pred, pos_label=4)\n",
        "\n",
        "y_test_pred = best_svm.predict(X_test)\n",
        "\n",
        "test_accuracy = accuracy_score(y_test, y_test_pred)\n",
        "test_recall = recall_score(y_test, y_test_pred, pos_label=4)\n",
        "test_precision = precision_score(y_test, y_test_pred, pos_label=4)\n",
        "test_f1 = f1_score(y_test, y_test_pred, pos_label=4)\n",
        "\n"
      ]
    },
    {
      "cell_type": "markdown",
      "metadata": {
        "id": "JHLi-aOkFDyN"
      },
      "source": [
        "Hyperparameters for training with daubechies wavelet and RBF kernel for SVM"
      ]
    },
    {
      "cell_type": "code",
      "execution_count": 187,
      "metadata": {
        "id": "GxAYttpoFDyO",
        "outputId": "7213437a-5549-4040-857a-7c0f05125c77"
      },
      "outputs": [
        {
          "name": "stdout",
          "output_type": "stream",
          "text": [
            "Validation Accuracy: 0.7878\n",
            "Validation Recall: 0.0000\n",
            "Validation Precision: 0.0000\n",
            "Validation F1 Score: 0.0000\n",
            "Test Accuracy: 0.8050\n",
            "Test Recall: 0.0000\n",
            "Test Precision: 0.0000\n",
            "Test F1 Score: 0.0000\n"
          ]
        }
      ],
      "source": [
        "print(f\"Validation Accuracy: {val_accuracy:.4f}\")\n",
        "print(f\"Validation Recall: {val_recall:.4f}\")\n",
        "print(f\"Validation Precision: {val_precision:.4f}\")\n",
        "print(f\"Validation F1 Score: {val_f1:.4f}\")\n",
        "\n",
        "print(f\"Test Accuracy: {test_accuracy:.4f}\")\n",
        "print(f\"Test Recall: {test_recall:.4f}\")\n",
        "print(f\"Test Precision: {test_precision:.4f}\")\n",
        "print(f\"Test F1 Score: {test_f1:.4f}\")"
      ]
    },
    {
      "cell_type": "code",
      "execution_count": 188,
      "metadata": {
        "id": "j2xWfHmbFDyL",
        "outputId": "c552c174-d75b-4d77-e6a5-e9146f48de17"
      },
      "outputs": [
        {
          "data": {
            "image/png": "[encoded data removed]",
            "text/plain": [
              "<Figure size 640x480 with 1 Axes>"
            ]
          },
          "metadata": {},
          "output_type": "display_data"
        }
      ],
      "source": [
        "\n",
        "from sklearn.metrics import roc_curve, auc\n",
        "fpr, tpr, _ = roc_curve(y_test, best_svm.decision_function(X_test), pos_label=4)\n",
        "roc_auc = auc(fpr, tpr)\n",
        "\n",
        "plt.figure()\n",
        "plt.plot(fpr, tpr, color='darkorange', lw=2, label=f'ROC curve (AUC = {roc_auc:.2f})')\n",
        "plt.plot([0, 1], [0, 1], color='navy', lw=2, linestyle='--')\n",
        "plt.xlim([0.0, 1.0])\n",
        "plt.ylim([0.0, 1.05])\n",
        "plt.xlabel('False Positive Rate')\n",
        "plt.ylabel('True Positive Rate')\n",
        "plt.title('Receiver Operating Characteristic - Test Set')\n",
        "plt.legend(loc=\"lower right\")\n",
        "plt.show()\n"
      ]
    },
    {
      "cell_type": "code",
      "execution_count": 189,
      "metadata": {},
      "outputs": [
        {
          "name": "stderr",
          "output_type": "stream",
          "text": [
            "2024-10-22 00:11:36,617 - pyswarms.single.global_best - INFO - Optimize for 30 iters with {'c1': 0.5, 'c2': 0.3, 'w': 0.9}\n",
            "pyswarms.single.global_best: 100%|██████████|30/30, best_cost=2.01\n",
            "2024-10-22 00:13:08,267 - pyswarms.single.global_best - INFO - Optimization finished | best cost: 2.005855661028982, best pos: [1.3285629  0.67149934 0.92388929 0.52819914 1.59768225 1.17020158\n",
            " 1.30724193 0.53167514 0.44051132 1.83877979 1.54999533 1.84838194\n",
            " 0.47734369 1.05010085 0.91131357 1.14040945 0.63238386 1.30590201\n",
            " 0.35048796 1.79798439 0.38643342 1.68693874 0.42522482 1.08601632\n",
            " 1.52441426 1.54825594 0.69105338 2.46475606 1.95240459 1.59031983\n",
            " 0.78082999 1.22262289 1.09518946 1.20109527 0.46117921 0.92775148\n",
            " 0.57939491 2.57333911 0.89143608 1.68420936 1.29618448 0.64562121\n",
            " 1.29054089 1.44891259 1.09103086 0.555011   0.79528755 1.92091369\n",
            " 1.18186954 1.33582051 1.4247606  2.05707683 0.08635983 1.34855935\n",
            " 1.21646195 0.4510938  0.55831267 0.96449047 0.71682446 1.27724384\n",
            " 0.72873544 0.34783676 0.898399   0.5922931  0.32348928 1.89790391\n",
            " 0.74387839 1.13063134 1.49206229 1.32016945 1.02991866 1.66787578\n",
            " 0.43421003 1.29114656 0.90773244 0.97328383 0.96948421 0.46473432\n",
            " 1.84556017 1.09432484 0.34687846 0.6605616  1.15747654 0.88099334\n",
            " 1.64675058 1.32312015 1.01148803 1.51224022 0.91093031 1.27483733\n",
            " 0.68046699 1.23846215 1.00801382 1.17557477 0.10690474 1.53771897\n",
            " 0.61116974 1.13140718 1.1146253  0.89101406 1.1328299  1.01402916\n",
            " 1.89640167 0.70650776 0.97903456 0.95922225 1.6711242  0.791798\n",
            " 0.64436845 2.2372134  0.78338205 1.24716657 1.58445391 0.5681159\n",
            " 0.15341574 0.69917932 1.14155194 1.35894425 0.94520006 0.14943102\n",
            " 0.78568062 1.34720394 3.28884927 1.14826189 0.37364126 1.45486644\n",
            " 0.38704302 1.08535279 0.4335824  1.26601033 0.71448305 2.31491733\n",
            " 1.1935737  1.15114523 2.28030731 1.18361474 1.46709142 0.30240514\n",
            " 1.52574175 1.64876716 1.27841382 0.939353   2.08813772 0.61390532\n",
            " 1.3672218  1.44227461 1.73352489 1.36067119 0.11934867 1.63321386\n",
            " 1.76009958 2.41632045 1.13275906 0.17574328 0.39434377 2.17255797\n",
            " 1.3381899  1.1935621  2.81373497 0.67207568 1.66773165 0.71203404\n",
            " 0.97955853 0.51680058 1.09095005 0.89899081 1.21224288 0.39225146\n",
            " 1.64800149 0.37582535 1.03146859 1.64497076 1.34487999 1.17887022\n",
            " 0.64283336 0.45564039 1.40168828 0.63634062 0.4499061  0.3220946\n",
            " 1.058802   1.03636239 0.17928962 1.1077001  1.06538447 0.84576295\n",
            " 1.39758222 0.86540499 1.16642493 1.1494457  1.49687585 1.28118741\n",
            " 1.74417289 0.66238574 0.86131024 1.02741915 1.6740669  0.42284861\n",
            " 1.29044833 0.80409259 1.37243737 0.84098084 0.80222499]\n"
          ]
        },
        {
          "name": "stdout",
          "output_type": "stream",
          "text": [
            "Linear Regression MSE: 2.06802089665727\n",
            "K-NN Accuracy: 0.44916666666666666\n",
            "GMM Accuracy: 0.016944444444444446\n",
            "Non-Linear Regression MSE: 5547393.924032728\n"
          ]
        }
      ],
      "source": [
        "import numpy as np\n",
        "import pandas as pd  # Ensure pandas is imported\n",
        "import pywt  # For wavelet decomposition\n",
        "from sklearn.model_selection import train_test_split\n",
        "from sklearn.linear_model import LinearRegression\n",
        "from sklearn.neighbors import KNeighborsClassifier\n",
        "from sklearn.mixture import GaussianMixture\n",
        "from sklearn.metrics import accuracy_score, mean_squared_error\n",
        "from pyswarms.single import GlobalBestPSO  # For PSO feature selection\n",
        "\n",
        "# Load the EEG dataset (A-E BONN dataset)\n",
        "ESR = pd.read_csv('C:/Users/MSI/Desktop/Dasec Mini Projet/DataBase/datafinal.csv')\n",
        "\n",
        "# Separate features and labels\n",
        "X = ESR.drop(columns=['y'])\n",
        "y = ESR['y']\n",
        "\n",
        "# Wavelet decomposition function\n",
        "def wavelet_decomposition(signal, wavelet='db4'):\n",
        "    coeffs = pywt.wavedec(signal, wavelet, level=4)\n",
        "    return np.concatenate(coeffs)\n",
        "\n",
        "# Apply wavelet decomposition to each row\n",
        "X_wavelet = np.array([wavelet_decomposition(x.values.flatten()) for _, x in X.iterrows()])\n",
        "\n",
        "# PSO Feature Selection\n",
        "def pso_feature_selection(X, y, n_particles=10, max_iter=30):\n",
        "    def fitness_function(selected_features):\n",
        "        selected_indices = np.where(selected_features > 0.5)[0]\n",
        "        X_selected = X[:, selected_indices]\n",
        "        if X_selected.shape[1] == 0:  # No features selected\n",
        "            return np.inf\n",
        "        X_train, X_test, y_train, y_test = train_test_split(X_selected, y, test_size=0.3, random_state=42)\n",
        "        model = LinearRegression().fit(X_train, y_train)\n",
        "        y_pred = model.predict(X_test)\n",
        "        return mean_squared_error(y_test, y_pred)\n",
        "    \n",
        "    optimizer = GlobalBestPSO(n_particles=n_particles, dimensions=X.shape[1], options={'c1': 0.5, 'c2': 0.3, 'w': 0.9})\n",
        "    cost, pos = optimizer.optimize(fitness_function, iters=max_iter)\n",
        "    return np.where(pos > 0.5)[0]\n",
        "\n",
        "selected_features = pso_feature_selection(X_wavelet, y)\n",
        "X_selected = X_wavelet[:, selected_features]\n",
        "\n",
        "# Train and evaluate classifiers\n",
        "X_train, X_test, y_train, y_test = train_test_split(X_selected, y, test_size=0.3, random_state=42)\n",
        "\n",
        "# Linear Regression\n",
        "lr = LinearRegression().fit(X_train, y_train)\n",
        "y_pred_lr = lr.predict(X_test)\n",
        "print('Linear Regression MSE:', mean_squared_error(y_test, y_pred_lr))\n",
        "\n",
        "# K-Nearest Neighbors\n",
        "knn = KNeighborsClassifier(n_neighbors=5).fit(X_train, y_train)\n",
        "y_pred_knn = knn.predict(X_test)\n",
        "print('K-NN Accuracy:', accuracy_score(y_test, y_pred_knn))\n",
        "\n",
        "# Gaussian Mixture Model\n",
        "gmm = GaussianMixture(n_components=2).fit(X_train)\n",
        "y_pred_gmm = gmm.predict(X_test)\n",
        "print('GMM Accuracy:', accuracy_score(y_test, y_pred_gmm))\n",
        "\n",
        "# Non-Linear Regression (Polynomial)\n",
        "from sklearn.preprocessing import PolynomialFeatures\n",
        "from sklearn.pipeline import make_pipeline\n",
        "\n",
        "degree = 2\n",
        "nlr = make_pipeline(PolynomialFeatures(degree), LinearRegression())\n",
        "nlr.fit(X_train, y_train)\n",
        "y_pred_nlr = nlr.predict(X_test)\n",
        "print('Non-Linear Regression MSE:', mean_squared_error(y_test, y_pred_nlr))\n"
      ]
    }
  ],
  "metadata": {
    "colab": {
      "provenance": []
    },
    "kernelspec": {
      "display_name": "base",
      "language": "python",
      "name": "python3"
    },
    "language_info": {
      "codemirror_mode": {
        "name": "ipython",
        "version": 3
      },
      "file_extension": ".py",
      "mimetype": "text/x-python",
      "name": "python",
      "nbconvert_exporter": "python",
      "pygments_lexer": "ipython3",
      "version": "3.10.9"
    },
    "orig_nbformat": 4
  },
  "nbformat": 4,
  "nbformat_minor": 0
}
